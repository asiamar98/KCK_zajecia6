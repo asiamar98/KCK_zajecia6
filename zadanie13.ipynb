{
 "cells": [
  {
   "cell_type": "code",
   "execution_count": 1,
   "metadata": {},
   "outputs": [
    {
     "ename": "ModuleNotFoundError",
     "evalue": "No module named 'aseegg'",
     "output_type": "error",
     "traceback": [
      "\u001b[1;31m---------------------------------------------------------------------------\u001b[0m",
      "\u001b[1;31mModuleNotFoundError\u001b[0m                       Traceback (most recent call last)",
      "\u001b[1;32m<ipython-input-1-4115ca88101d>\u001b[0m in \u001b[0;36m<module>\u001b[1;34m\u001b[0m\n\u001b[0;32m      2\u001b[0m \u001b[1;32mimport\u001b[0m \u001b[0mpandas\u001b[0m \u001b[1;32mas\u001b[0m \u001b[0mpd\u001b[0m\u001b[1;33m\u001b[0m\u001b[1;33m\u001b[0m\u001b[0m\n\u001b[0;32m      3\u001b[0m \u001b[1;32mimport\u001b[0m \u001b[0mmatplotlib\u001b[0m\u001b[1;33m.\u001b[0m\u001b[0mpyplot\u001b[0m \u001b[1;32mas\u001b[0m \u001b[0mplt\u001b[0m\u001b[1;33m\u001b[0m\u001b[1;33m\u001b[0m\u001b[0m\n\u001b[1;32m----> 4\u001b[1;33m \u001b[1;32mimport\u001b[0m \u001b[0maseegg\u001b[0m \u001b[1;32mas\u001b[0m \u001b[0mag\u001b[0m\u001b[1;33m\u001b[0m\u001b[1;33m\u001b[0m\u001b[0m\n\u001b[0m\u001b[0;32m      5\u001b[0m \u001b[1;33m\u001b[0m\u001b[0m\n\u001b[0;32m      6\u001b[0m \u001b[0mdane\u001b[0m \u001b[1;33m=\u001b[0m \u001b[0mpd\u001b[0m\u001b[1;33m.\u001b[0m\u001b[0mread_csv\u001b[0m\u001b[1;33m(\u001b[0m\u001b[1;34mr\"C:\\Users\\asiam\\Desktop\\KCK\\zajecia13\\sub-01-trial-010.csv\"\u001b[0m\u001b[1;33m,\u001b[0m \u001b[0mdelimiter\u001b[0m\u001b[1;33m=\u001b[0m\u001b[1;34m','\u001b[0m\u001b[1;33m,\u001b[0m \u001b[0mengine\u001b[0m\u001b[1;33m=\u001b[0m\u001b[1;34m'python'\u001b[0m\u001b[1;33m,\u001b[0m \u001b[0mnames\u001b[0m\u001b[1;33m=\u001b[0m\u001b[1;33m[\u001b[0m\u001b[1;34m'number'\u001b[0m\u001b[1;33m,\u001b[0m \u001b[1;34m'01'\u001b[0m\u001b[1;33m,\u001b[0m \u001b[1;34m'02'\u001b[0m\u001b[1;33m,\u001b[0m \u001b[1;34m'03'\u001b[0m\u001b[1;33m,\u001b[0m \u001b[1;34m'04'\u001b[0m\u001b[1;33m,\u001b[0m \u001b[1;34m'wyswietlana'\u001b[0m\u001b[1;33m]\u001b[0m\u001b[1;33m)\u001b[0m\u001b[1;33m\u001b[0m\u001b[1;33m\u001b[0m\u001b[0m\n",
      "\u001b[1;31mModuleNotFoundError\u001b[0m: No module named 'aseegg'"
     ]
    }
   ],
   "source": [
    "import numpy as np\n",
    "import pandas as pd\n",
    "import matplotlib.pyplot as plt\n",
    "import aseegg as ag\n",
    "\n",
    "dane = pd.read_csv(r\"C:\\Users\\asiam\\Desktop\\KCK\\zajecia13\\sub-01-trial-010.csv\", delimiter=',', engine='python', names=['number', '01', '02', '03', '04', 'wyswietlana'])\n",
    "\n",
    "sygnal = dane['01']\n",
    "liczba = dane['wyswietlana']\n",
    "\n",
    "czestProbkowania = 200\n",
    "czas=len(sygnal)/czestProbkowania\n",
    "t=np.linspace(0,czas,czas*czestProbkowania)\n",
    "\n",
    "przefiltrowany = ag.pasmowozaporowy(sygnal, czestProbkowania, 49, 51)\n",
    "przefiltrowany2 = ag.pasmowoprzepustowy(przefiltrowany, czestProbkowania, 1, 50)\n",
    "\n",
    "plt.subplot(3,1,1)\n",
    "plt.plot(t, sygnal)\n",
    "plt.xlabel(\"Czas [s]\")\n",
    "plt.ylabel(\"Amplituda [-]\")\n",
    "\n",
    "plt.subplot(3,1,2)\n",
    "plt.plot(t, przefiltrowany2)\n",
    "plt.xlabel(\"Czas [s]\")\n",
    "plt.ylabel(\"Amplituda [-]\")\n",
    "\n",
    "plt.subplot(3,1,3)\n",
    "plt.plot(t, liczba)\n",
    "plt.xlabel(\"Czas [s]\")\n",
    "plt.ylabel(\"Liczba [-]\")\n",
    "plt.show()\n",
    "\n",
    "reset=0\n",
    "print (\"Cyfry, na które patrzyła osoba badana - przed odflitrowaniem 'podwójnego mrugnięcia'\")\n",
    "for i in range (7564):\n",
    "    wartosc = przefiltrowany2[i]\n",
    "    if reset>liczba[i]:\n",
    "        reset=0\n",
    "    if reset<liczba[i]:\n",
    "        if wartosc > 0.2:\n",
    "            print(liczba[i])\n",
    "            reset=liczba[i]\n",
    "print (\"Cyfry, na które patrzyła osoba badana - po odfiltrowaniu 'podwójnego mrugnięcia'\")\n",
    "for i in range (7564):\n",
    "    wartosc = przefiltrowany2[i]\n",
    "    if reset>liczba[i]:\n",
    "        reset=0\n",
    "    if reset<1:\n",
    "        if wartosc > 0.2:\n",
    "            print(liczba[i])\n",
    "            reset=liczba[i]"
   ]
  },
  {
   "cell_type": "code",
   "execution_count": null,
   "metadata": {},
   "outputs": [],
   "source": []
  },
  {
   "cell_type": "code",
   "execution_count": null,
   "metadata": {},
   "outputs": [],
   "source": []
  }
 ],
 "metadata": {
  "kernelspec": {
   "display_name": "Python 3",
   "language": "python",
   "name": "python3"
  },
  "language_info": {
   "codemirror_mode": {
    "name": "ipython",
    "version": 3
   },
   "file_extension": ".py",
   "mimetype": "text/x-python",
   "name": "python",
   "nbconvert_exporter": "python",
   "pygments_lexer": "ipython3",
   "version": "3.7.1"
  }
 },
 "nbformat": 4,
 "nbformat_minor": 2
}
